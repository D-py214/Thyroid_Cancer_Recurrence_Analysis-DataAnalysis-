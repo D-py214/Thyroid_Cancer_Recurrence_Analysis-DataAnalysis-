{
 "cells": [
  {
   "cell_type": "code",
   "execution_count": 2,
   "id": "410256e6-cbf9-450c-b0af-6cea0e1a2c31",
   "metadata": {},
   "outputs": [],
   "source": [
    "import pandas as pd \n",
    "import numpy as np \n",
    "import matplotlib.pyplot as plt\n",
    "import seaborn as sns"
   ]
  },
  {
   "cell_type": "code",
   "execution_count": 3,
   "id": "f4e2f7a7-d747-429f-bce8-d3ae9fb5facc",
   "metadata": {},
   "outputs": [],
   "source": [
    "data=pd.read_csv(r\"C:\\Users\\DURGESHWARI GAJBE\\Downloads\\Differentiated Thyroid Cancer Recurrence.csv\")"
   ]
  },
  {
   "cell_type": "code",
   "execution_count": 4,
   "id": "6345f259-bfae-48a1-9ee3-f72d56a2f1ee",
   "metadata": {},
   "outputs": [],
   "source": [
    "#read the csv file using Pandas library and Following shown is the few first rows of dataset "
   ]
  },
  {
   "cell_type": "code",
   "execution_count": 5,
   "id": "9f9d4192-a8af-4e41-b2eb-caa9cb89c529",
   "metadata": {},
   "outputs": [
    {
     "data": {
      "text/html": [
       "<div>\n",
       "<style scoped>\n",
       "    .dataframe tbody tr th:only-of-type {\n",
       "        vertical-align: middle;\n",
       "    }\n",
       "\n",
       "    .dataframe tbody tr th {\n",
       "        vertical-align: top;\n",
       "    }\n",
       "\n",
       "    .dataframe thead th {\n",
       "        text-align: right;\n",
       "    }\n",
       "</style>\n",
       "<table border=\"1\" class=\"dataframe\">\n",
       "  <thead>\n",
       "    <tr style=\"text-align: right;\">\n",
       "      <th></th>\n",
       "      <th>Age</th>\n",
       "      <th>Gender</th>\n",
       "      <th>Smoking</th>\n",
       "      <th>Hx Smoking</th>\n",
       "      <th>Hx Radiothreapy</th>\n",
       "      <th>Thyroid Function</th>\n",
       "      <th>Physical Examination</th>\n",
       "      <th>Adenopathy</th>\n",
       "      <th>Pathology</th>\n",
       "      <th>Focality</th>\n",
       "      <th>Risk</th>\n",
       "      <th>T</th>\n",
       "      <th>N</th>\n",
       "      <th>M</th>\n",
       "      <th>Stage</th>\n",
       "      <th>Response</th>\n",
       "      <th>Recurred</th>\n",
       "    </tr>\n",
       "  </thead>\n",
       "  <tbody>\n",
       "    <tr>\n",
       "      <th>0</th>\n",
       "      <td>27</td>\n",
       "      <td>F</td>\n",
       "      <td>No</td>\n",
       "      <td>No</td>\n",
       "      <td>No</td>\n",
       "      <td>Euthyroid</td>\n",
       "      <td>Single nodular goiter-left</td>\n",
       "      <td>No</td>\n",
       "      <td>Micropapillary</td>\n",
       "      <td>Uni-Focal</td>\n",
       "      <td>Low</td>\n",
       "      <td>T1a</td>\n",
       "      <td>N0</td>\n",
       "      <td>M0</td>\n",
       "      <td>I</td>\n",
       "      <td>Indeterminate</td>\n",
       "      <td>No</td>\n",
       "    </tr>\n",
       "    <tr>\n",
       "      <th>1</th>\n",
       "      <td>34</td>\n",
       "      <td>F</td>\n",
       "      <td>No</td>\n",
       "      <td>Yes</td>\n",
       "      <td>No</td>\n",
       "      <td>Euthyroid</td>\n",
       "      <td>Multinodular goiter</td>\n",
       "      <td>No</td>\n",
       "      <td>Micropapillary</td>\n",
       "      <td>Uni-Focal</td>\n",
       "      <td>Low</td>\n",
       "      <td>T1a</td>\n",
       "      <td>N0</td>\n",
       "      <td>M0</td>\n",
       "      <td>I</td>\n",
       "      <td>Excellent</td>\n",
       "      <td>No</td>\n",
       "    </tr>\n",
       "    <tr>\n",
       "      <th>2</th>\n",
       "      <td>30</td>\n",
       "      <td>F</td>\n",
       "      <td>No</td>\n",
       "      <td>No</td>\n",
       "      <td>No</td>\n",
       "      <td>Euthyroid</td>\n",
       "      <td>Single nodular goiter-right</td>\n",
       "      <td>No</td>\n",
       "      <td>Micropapillary</td>\n",
       "      <td>Uni-Focal</td>\n",
       "      <td>Low</td>\n",
       "      <td>T1a</td>\n",
       "      <td>N0</td>\n",
       "      <td>M0</td>\n",
       "      <td>I</td>\n",
       "      <td>Excellent</td>\n",
       "      <td>No</td>\n",
       "    </tr>\n",
       "    <tr>\n",
       "      <th>3</th>\n",
       "      <td>62</td>\n",
       "      <td>F</td>\n",
       "      <td>No</td>\n",
       "      <td>No</td>\n",
       "      <td>No</td>\n",
       "      <td>Euthyroid</td>\n",
       "      <td>Single nodular goiter-right</td>\n",
       "      <td>No</td>\n",
       "      <td>Micropapillary</td>\n",
       "      <td>Uni-Focal</td>\n",
       "      <td>Low</td>\n",
       "      <td>T1a</td>\n",
       "      <td>N0</td>\n",
       "      <td>M0</td>\n",
       "      <td>I</td>\n",
       "      <td>Excellent</td>\n",
       "      <td>No</td>\n",
       "    </tr>\n",
       "    <tr>\n",
       "      <th>4</th>\n",
       "      <td>62</td>\n",
       "      <td>F</td>\n",
       "      <td>No</td>\n",
       "      <td>No</td>\n",
       "      <td>No</td>\n",
       "      <td>Euthyroid</td>\n",
       "      <td>Multinodular goiter</td>\n",
       "      <td>No</td>\n",
       "      <td>Micropapillary</td>\n",
       "      <td>Multi-Focal</td>\n",
       "      <td>Low</td>\n",
       "      <td>T1a</td>\n",
       "      <td>N0</td>\n",
       "      <td>M0</td>\n",
       "      <td>I</td>\n",
       "      <td>Excellent</td>\n",
       "      <td>No</td>\n",
       "    </tr>\n",
       "  </tbody>\n",
       "</table>\n",
       "</div>"
      ],
      "text/plain": [
       "   Age Gender Smoking Hx Smoking Hx Radiothreapy Thyroid Function  \\\n",
       "0   27      F      No         No              No        Euthyroid   \n",
       "1   34      F      No        Yes              No        Euthyroid   \n",
       "2   30      F      No         No              No        Euthyroid   \n",
       "3   62      F      No         No              No        Euthyroid   \n",
       "4   62      F      No         No              No        Euthyroid   \n",
       "\n",
       "          Physical Examination Adenopathy       Pathology     Focality Risk  \\\n",
       "0   Single nodular goiter-left         No  Micropapillary    Uni-Focal  Low   \n",
       "1          Multinodular goiter         No  Micropapillary    Uni-Focal  Low   \n",
       "2  Single nodular goiter-right         No  Micropapillary    Uni-Focal  Low   \n",
       "3  Single nodular goiter-right         No  Micropapillary    Uni-Focal  Low   \n",
       "4          Multinodular goiter         No  Micropapillary  Multi-Focal  Low   \n",
       "\n",
       "     T   N   M Stage       Response Recurred  \n",
       "0  T1a  N0  M0     I  Indeterminate       No  \n",
       "1  T1a  N0  M0     I      Excellent       No  \n",
       "2  T1a  N0  M0     I      Excellent       No  \n",
       "3  T1a  N0  M0     I      Excellent       No  \n",
       "4  T1a  N0  M0     I      Excellent       No  "
      ]
     },
     "execution_count": 5,
     "metadata": {},
     "output_type": "execute_result"
    }
   ],
   "source": [
    "data.head()"
   ]
  },
  {
   "cell_type": "code",
   "execution_count": 6,
   "id": "d2280df3-9f00-4d19-af0d-e8a4560e3e63",
   "metadata": {},
   "outputs": [
    {
     "data": {
      "text/plain": [
       "Age                     0\n",
       "Gender                  0\n",
       "Smoking                 0\n",
       "Hx Smoking              0\n",
       "Hx Radiothreapy         0\n",
       "Thyroid Function        0\n",
       "Physical Examination    0\n",
       "Adenopathy              0\n",
       "Pathology               0\n",
       "Focality                0\n",
       "Risk                    0\n",
       "T                       0\n",
       "N                       0\n",
       "M                       0\n",
       "Stage                   0\n",
       "Response                0\n",
       "Recurred                0\n",
       "dtype: int64"
      ]
     },
     "execution_count": 6,
     "metadata": {},
     "output_type": "execute_result"
    }
   ],
   "source": [
    "data.isnull().sum() #Checking the null values and we can see there is no null values or missing values "
   ]
  },
  {
   "cell_type": "code",
   "execution_count": 7,
   "id": "356ace9a-efcf-4b1d-8d6d-6713a06b2ba1",
   "metadata": {},
   "outputs": [
    {
     "name": "stdout",
     "output_type": "stream",
     "text": [
      "<class 'pandas.core.frame.DataFrame'>\n",
      "RangeIndex: 383 entries, 0 to 382\n",
      "Data columns (total 17 columns):\n",
      " #   Column                Non-Null Count  Dtype \n",
      "---  ------                --------------  ----- \n",
      " 0   Age                   383 non-null    int64 \n",
      " 1   Gender                383 non-null    object\n",
      " 2   Smoking               383 non-null    object\n",
      " 3   Hx Smoking            383 non-null    object\n",
      " 4   Hx Radiothreapy       383 non-null    object\n",
      " 5   Thyroid Function      383 non-null    object\n",
      " 6   Physical Examination  383 non-null    object\n",
      " 7   Adenopathy            383 non-null    object\n",
      " 8   Pathology             383 non-null    object\n",
      " 9   Focality              383 non-null    object\n",
      " 10  Risk                  383 non-null    object\n",
      " 11  T                     383 non-null    object\n",
      " 12  N                     383 non-null    object\n",
      " 13  M                     383 non-null    object\n",
      " 14  Stage                 383 non-null    object\n",
      " 15  Response              383 non-null    object\n",
      " 16  Recurred              383 non-null    object\n",
      "dtypes: int64(1), object(16)\n",
      "memory usage: 51.0+ KB\n"
     ]
    }
   ],
   "source": [
    "data.info() #This gives the Complete information about the dataset , we have 383 rows and 17 columns , object type data type"
   ]
  },
  {
   "cell_type": "code",
   "execution_count": 8,
   "id": "80a43c4d-79ed-463d-8fc0-cc03a68c21ba",
   "metadata": {},
   "outputs": [
    {
     "data": {
      "text/html": [
       "<div>\n",
       "<style scoped>\n",
       "    .dataframe tbody tr th:only-of-type {\n",
       "        vertical-align: middle;\n",
       "    }\n",
       "\n",
       "    .dataframe tbody tr th {\n",
       "        vertical-align: top;\n",
       "    }\n",
       "\n",
       "    .dataframe thead th {\n",
       "        text-align: right;\n",
       "    }\n",
       "</style>\n",
       "<table border=\"1\" class=\"dataframe\">\n",
       "  <thead>\n",
       "    <tr style=\"text-align: right;\">\n",
       "      <th></th>\n",
       "      <th>Gender</th>\n",
       "      <th>Smoking</th>\n",
       "      <th>Hx Smoking</th>\n",
       "      <th>Hx Radiothreapy</th>\n",
       "      <th>Thyroid Function</th>\n",
       "      <th>Physical Examination</th>\n",
       "      <th>Adenopathy</th>\n",
       "      <th>Pathology</th>\n",
       "      <th>Focality</th>\n",
       "      <th>Risk</th>\n",
       "      <th>T</th>\n",
       "      <th>N</th>\n",
       "      <th>M</th>\n",
       "      <th>Stage</th>\n",
       "      <th>Response</th>\n",
       "      <th>Recurred</th>\n",
       "    </tr>\n",
       "  </thead>\n",
       "  <tbody>\n",
       "    <tr>\n",
       "      <th>count</th>\n",
       "      <td>383</td>\n",
       "      <td>383</td>\n",
       "      <td>383</td>\n",
       "      <td>383</td>\n",
       "      <td>383</td>\n",
       "      <td>383</td>\n",
       "      <td>383</td>\n",
       "      <td>383</td>\n",
       "      <td>383</td>\n",
       "      <td>383</td>\n",
       "      <td>383</td>\n",
       "      <td>383</td>\n",
       "      <td>383</td>\n",
       "      <td>383</td>\n",
       "      <td>383</td>\n",
       "      <td>383</td>\n",
       "    </tr>\n",
       "    <tr>\n",
       "      <th>unique</th>\n",
       "      <td>2</td>\n",
       "      <td>2</td>\n",
       "      <td>2</td>\n",
       "      <td>2</td>\n",
       "      <td>5</td>\n",
       "      <td>5</td>\n",
       "      <td>6</td>\n",
       "      <td>4</td>\n",
       "      <td>2</td>\n",
       "      <td>3</td>\n",
       "      <td>7</td>\n",
       "      <td>3</td>\n",
       "      <td>2</td>\n",
       "      <td>5</td>\n",
       "      <td>4</td>\n",
       "      <td>2</td>\n",
       "    </tr>\n",
       "    <tr>\n",
       "      <th>top</th>\n",
       "      <td>F</td>\n",
       "      <td>No</td>\n",
       "      <td>No</td>\n",
       "      <td>No</td>\n",
       "      <td>Euthyroid</td>\n",
       "      <td>Multinodular goiter</td>\n",
       "      <td>No</td>\n",
       "      <td>Papillary</td>\n",
       "      <td>Uni-Focal</td>\n",
       "      <td>Low</td>\n",
       "      <td>T2</td>\n",
       "      <td>N0</td>\n",
       "      <td>M0</td>\n",
       "      <td>I</td>\n",
       "      <td>Excellent</td>\n",
       "      <td>No</td>\n",
       "    </tr>\n",
       "    <tr>\n",
       "      <th>freq</th>\n",
       "      <td>312</td>\n",
       "      <td>334</td>\n",
       "      <td>355</td>\n",
       "      <td>376</td>\n",
       "      <td>332</td>\n",
       "      <td>140</td>\n",
       "      <td>277</td>\n",
       "      <td>287</td>\n",
       "      <td>247</td>\n",
       "      <td>249</td>\n",
       "      <td>151</td>\n",
       "      <td>268</td>\n",
       "      <td>365</td>\n",
       "      <td>333</td>\n",
       "      <td>208</td>\n",
       "      <td>275</td>\n",
       "    </tr>\n",
       "  </tbody>\n",
       "</table>\n",
       "</div>"
      ],
      "text/plain": [
       "       Gender Smoking Hx Smoking Hx Radiothreapy Thyroid Function  \\\n",
       "count     383     383        383             383              383   \n",
       "unique      2       2          2               2                5   \n",
       "top         F      No         No              No        Euthyroid   \n",
       "freq      312     334        355             376              332   \n",
       "\n",
       "       Physical Examination Adenopathy  Pathology   Focality Risk    T    N  \\\n",
       "count                   383        383        383        383  383  383  383   \n",
       "unique                    5          6          4          2    3    7    3   \n",
       "top     Multinodular goiter         No  Papillary  Uni-Focal  Low   T2   N0   \n",
       "freq                    140        277        287        247  249  151  268   \n",
       "\n",
       "          M Stage   Response Recurred  \n",
       "count   383   383        383      383  \n",
       "unique    2     5          4        2  \n",
       "top      M0     I  Excellent       No  \n",
       "freq    365   333        208      275  "
      ]
     },
     "execution_count": 8,
     "metadata": {},
     "output_type": "execute_result"
    }
   ],
   "source": [
    "data.describe(include=object) #here we get the description of the dataset about the count , unique , top values and frequency "
   ]
  },
  {
   "cell_type": "code",
   "execution_count": 7,
   "id": "e7fea43d-17aa-4b86-923e-3a683fc08917",
   "metadata": {},
   "outputs": [
    {
     "data": {
      "text/plain": [
       "Index(['Age', 'Gender', 'Smoking', 'Hx Smoking', 'Hx Radiothreapy',\n",
       "       'Thyroid Function', 'Physical Examination', 'Adenopathy', 'Pathology',\n",
       "       'Focality', 'Risk', 'T', 'N', 'M', 'Stage', 'Response', 'Recurred'],\n",
       "      dtype='object')"
      ]
     },
     "execution_count": 7,
     "metadata": {},
     "output_type": "execute_result"
    }
   ],
   "source": [
    "data.columns #Here we get the column names of the dataset "
   ]
  },
  {
   "cell_type": "code",
   "execution_count": 8,
   "id": "0df48a3e-975e-4009-8c88-a2db18d9d889",
   "metadata": {},
   "outputs": [
    {
     "data": {
      "text/plain": [
       "(383, 17)"
      ]
     },
     "execution_count": 8,
     "metadata": {},
     "output_type": "execute_result"
    }
   ],
   "source": [
    "data.shape #by this we know we have 383 rows and 17 columns respectively "
   ]
  },
  {
   "cell_type": "code",
   "execution_count": 10,
   "id": "8ec45d35-3a86-416d-84d5-6237f0533a6f",
   "metadata": {},
   "outputs": [],
   "source": [
    "from sklearn.preprocessing import LabelEncoder\n",
    "LE=LabelEncoder() #By using Label Encoder we will convert categorical data into numrical data \n",
    "def CCD(data,col): # Converting Categorical Data def function is created so as to make changes in the required columns  \n",
    "    data[col]=LE.fit_transform(data[col]) \n",
    "    return data "
   ]
  },
  {
   "cell_type": "code",
   "execution_count": 11,
   "id": "ca78f0f5-f170-42fa-b888-dd6e7b42c94d",
   "metadata": {},
   "outputs": [],
   "source": [
    "for i in ['Gender', 'Smoking', 'Hx Smoking', 'Hx Radiothreapy',\n",
    "       'Thyroid Function', 'Physical Examination', 'Adenopathy', 'Pathology',\n",
    "       'Focality', 'Risk', 'T', 'N', 'M', 'Stage', 'Response', 'Recurred']:\n",
    "    CCD(data,i) # here we call out the def function and we can see the changes now "
   ]
  },
  {
   "cell_type": "code",
   "execution_count": 12,
   "id": "eaca7524-18c4-4afe-b677-a11164559a5e",
   "metadata": {},
   "outputs": [
    {
     "data": {
      "text/html": [
       "<div>\n",
       "<style scoped>\n",
       "    .dataframe tbody tr th:only-of-type {\n",
       "        vertical-align: middle;\n",
       "    }\n",
       "\n",
       "    .dataframe tbody tr th {\n",
       "        vertical-align: top;\n",
       "    }\n",
       "\n",
       "    .dataframe thead th {\n",
       "        text-align: right;\n",
       "    }\n",
       "</style>\n",
       "<table border=\"1\" class=\"dataframe\">\n",
       "  <thead>\n",
       "    <tr style=\"text-align: right;\">\n",
       "      <th></th>\n",
       "      <th>Age</th>\n",
       "      <th>Gender</th>\n",
       "      <th>Smoking</th>\n",
       "      <th>Hx Smoking</th>\n",
       "      <th>Hx Radiothreapy</th>\n",
       "      <th>Thyroid Function</th>\n",
       "      <th>Physical Examination</th>\n",
       "      <th>Adenopathy</th>\n",
       "      <th>Pathology</th>\n",
       "      <th>Focality</th>\n",
       "      <th>Risk</th>\n",
       "      <th>T</th>\n",
       "      <th>N</th>\n",
       "      <th>M</th>\n",
       "      <th>Stage</th>\n",
       "      <th>Response</th>\n",
       "      <th>Recurred</th>\n",
       "    </tr>\n",
       "  </thead>\n",
       "  <tbody>\n",
       "    <tr>\n",
       "      <th>0</th>\n",
       "      <td>27</td>\n",
       "      <td>0</td>\n",
       "      <td>0</td>\n",
       "      <td>0</td>\n",
       "      <td>0</td>\n",
       "      <td>2</td>\n",
       "      <td>3</td>\n",
       "      <td>3</td>\n",
       "      <td>2</td>\n",
       "      <td>1</td>\n",
       "      <td>2</td>\n",
       "      <td>0</td>\n",
       "      <td>0</td>\n",
       "      <td>0</td>\n",
       "      <td>0</td>\n",
       "      <td>2</td>\n",
       "      <td>0</td>\n",
       "    </tr>\n",
       "    <tr>\n",
       "      <th>1</th>\n",
       "      <td>34</td>\n",
       "      <td>0</td>\n",
       "      <td>0</td>\n",
       "      <td>1</td>\n",
       "      <td>0</td>\n",
       "      <td>2</td>\n",
       "      <td>1</td>\n",
       "      <td>3</td>\n",
       "      <td>2</td>\n",
       "      <td>1</td>\n",
       "      <td>2</td>\n",
       "      <td>0</td>\n",
       "      <td>0</td>\n",
       "      <td>0</td>\n",
       "      <td>0</td>\n",
       "      <td>1</td>\n",
       "      <td>0</td>\n",
       "    </tr>\n",
       "    <tr>\n",
       "      <th>2</th>\n",
       "      <td>30</td>\n",
       "      <td>0</td>\n",
       "      <td>0</td>\n",
       "      <td>0</td>\n",
       "      <td>0</td>\n",
       "      <td>2</td>\n",
       "      <td>4</td>\n",
       "      <td>3</td>\n",
       "      <td>2</td>\n",
       "      <td>1</td>\n",
       "      <td>2</td>\n",
       "      <td>0</td>\n",
       "      <td>0</td>\n",
       "      <td>0</td>\n",
       "      <td>0</td>\n",
       "      <td>1</td>\n",
       "      <td>0</td>\n",
       "    </tr>\n",
       "    <tr>\n",
       "      <th>3</th>\n",
       "      <td>62</td>\n",
       "      <td>0</td>\n",
       "      <td>0</td>\n",
       "      <td>0</td>\n",
       "      <td>0</td>\n",
       "      <td>2</td>\n",
       "      <td>4</td>\n",
       "      <td>3</td>\n",
       "      <td>2</td>\n",
       "      <td>1</td>\n",
       "      <td>2</td>\n",
       "      <td>0</td>\n",
       "      <td>0</td>\n",
       "      <td>0</td>\n",
       "      <td>0</td>\n",
       "      <td>1</td>\n",
       "      <td>0</td>\n",
       "    </tr>\n",
       "    <tr>\n",
       "      <th>4</th>\n",
       "      <td>62</td>\n",
       "      <td>0</td>\n",
       "      <td>0</td>\n",
       "      <td>0</td>\n",
       "      <td>0</td>\n",
       "      <td>2</td>\n",
       "      <td>1</td>\n",
       "      <td>3</td>\n",
       "      <td>2</td>\n",
       "      <td>0</td>\n",
       "      <td>2</td>\n",
       "      <td>0</td>\n",
       "      <td>0</td>\n",
       "      <td>0</td>\n",
       "      <td>0</td>\n",
       "      <td>1</td>\n",
       "      <td>0</td>\n",
       "    </tr>\n",
       "  </tbody>\n",
       "</table>\n",
       "</div>"
      ],
      "text/plain": [
       "   Age  Gender  Smoking  Hx Smoking  Hx Radiothreapy  Thyroid Function  \\\n",
       "0   27       0        0           0                0                 2   \n",
       "1   34       0        0           1                0                 2   \n",
       "2   30       0        0           0                0                 2   \n",
       "3   62       0        0           0                0                 2   \n",
       "4   62       0        0           0                0                 2   \n",
       "\n",
       "   Physical Examination  Adenopathy  Pathology  Focality  Risk  T  N  M  \\\n",
       "0                     3           3          2         1     2  0  0  0   \n",
       "1                     1           3          2         1     2  0  0  0   \n",
       "2                     4           3          2         1     2  0  0  0   \n",
       "3                     4           3          2         1     2  0  0  0   \n",
       "4                     1           3          2         0     2  0  0  0   \n",
       "\n",
       "   Stage  Response  Recurred  \n",
       "0      0         2         0  \n",
       "1      0         1         0  \n",
       "2      0         1         0  \n",
       "3      0         1         0  \n",
       "4      0         1         0  "
      ]
     },
     "execution_count": 12,
     "metadata": {},
     "output_type": "execute_result"
    }
   ],
   "source": [
    "data.head() # changes can be seen here as categorical data is converted into numerical form of data"
   ]
  },
  {
   "cell_type": "markdown",
   "id": "221d8c08-3dbb-467a-ab5f-60e4206d7d2c",
   "metadata": {},
   "source": [
    "# 1.Descriptive Analysis"
   ]
  },
  {
   "cell_type": "code",
   "execution_count": 124,
   "id": "092173a1-f230-4b56-87ef-af346fa1e765",
   "metadata": {},
   "outputs": [],
   "source": [
    "# Q1 What is the overall recurrence rate of thyroid cancer in the dataset?"
   ]
  },
  {
   "cell_type": "code",
   "execution_count": 16,
   "id": "1f5260ba-235c-4f3d-8723-f997333221d1",
   "metadata": {},
   "outputs": [
    {
     "data": {
      "text/plain": [
       "28.198433420365536"
      ]
     },
     "execution_count": 16,
     "metadata": {},
     "output_type": "execute_result"
    }
   ],
   "source": [
    "recurrence_rate = data['Recurred'].mean()\n",
    "recurrence_rate*100 "
   ]
  },
  {
   "cell_type": "markdown",
   "id": "33704dd0-b520-4bd4-aee3-c0096233d2ce",
   "metadata": {},
   "source": [
    "##### 28.19 % is the overall recurrence rate of thyroid cancer in the dataset"
   ]
  },
  {
   "cell_type": "code",
   "execution_count": 17,
   "id": "35f952e6-4230-4d0b-a9de-f9489148e6e5",
   "metadata": {},
   "outputs": [],
   "source": [
    "#Q2 Analyze the distribution of patients by age, gender, and smoking history. \n",
    "#Are there any significant differences in recurrence rates based on these factors?"
   ]
  },
  {
   "cell_type": "code",
   "execution_count": 18,
   "id": "1ea35af0-f253-488c-b8f3-89fb82da77dd",
   "metadata": {},
   "outputs": [
    {
     "name": "stderr",
     "output_type": "stream",
     "text": [
      "C:\\Users\\DURGESHWARI GAJBE\\anaconda3\\Lib\\site-packages\\seaborn\\_oldcore.py:1119: FutureWarning: use_inf_as_na option is deprecated and will be removed in a future version. Convert inf values to NaN before operating instead.\n",
      "  with pd.option_context('mode.use_inf_as_na', True):\n"
     ]
    },
    {
     "data": {
      "image/png": "[encoded data removed]",
      "text/plain": [
       "<Figure size 1000x600 with 1 Axes>"
      ]
     },
     "metadata": {},
     "output_type": "display_data"
    }
   ],
   "source": [
    "plt.figure(figsize=(10, 6))\n",
    "sns.histplot(data['Age'], bins=30, color='blue')\n",
    "plt.title(\"Age Distribution\")\n",
    "plt.xlabel(\"Age\")\n",
    "plt.ylabel(\"Count\")\n",
    "plt.show()\n",
    "#the distribution of patients by age"
   ]
  },
  {
   "cell_type": "code",
   "execution_count": 19,
   "id": "6146e79f-25d0-4fa8-8823-abf337e7efa6",
   "metadata": {},
   "outputs": [
    {
     "data": {
      "text/plain": [
       "Age\n",
       "15    1.000000\n",
       "17    0.333333\n",
       "18    1.000000\n",
       "19    0.000000\n",
       "20    0.333333\n",
       "        ...   \n",
       "78    1.000000\n",
       "79    1.000000\n",
       "80    1.000000\n",
       "81    0.500000\n",
       "82    1.000000\n",
       "Name: Recurred, Length: 65, dtype: float64"
      ]
     },
     "execution_count": 19,
     "metadata": {},
     "output_type": "execute_result"
    }
   ],
   "source": [
    "age_recurrence_rates = data.groupby('Age')['Recurred'].mean()\n",
    "age_recurrence_rates"
   ]
  },
  {
   "cell_type": "markdown",
   "id": "8d1828cf-7154-44f7-a9c6-809d4be6508d",
   "metadata": {},
   "source": [
    "##### From the age recurrence rates we can see that Young peoples aged between 15-20 have less chances to recurrence of thyroid cancer as compared to older ones"
   ]
  },
  {
   "cell_type": "code",
   "execution_count": 20,
   "id": "ac687eb9-fbf9-4226-b6a9-d7d1466c7613",
   "metadata": {},
   "outputs": [
    {
     "name": "stderr",
     "output_type": "stream",
     "text": [
      "C:\\Users\\DURGESHWARI GAJBE\\anaconda3\\Lib\\site-packages\\seaborn\\_oldcore.py:1119: FutureWarning: use_inf_as_na option is deprecated and will be removed in a future version. Convert inf values to NaN before operating instead.\n",
      "  with pd.option_context('mode.use_inf_as_na', True):\n"
     ]
    },
    {
     "data": {
      "image/png": "[encoded data removed]",
      "text/plain": [
       "<Figure size 600x400 with 1 Axes>"
      ]
     },
     "metadata": {},
     "output_type": "display_data"
    }
   ],
   "source": [
    "plt.figure(figsize=(6, 4))\n",
    "sns.histplot(data['Gender'])\n",
    "plt.title(\"Gender Distribution\")\n",
    "plt.xlabel(\"Gender\")\n",
    "plt.ylabel(\"Count\")\n",
    "plt.show() #the distribution of patients by  gender"
   ]
  },
  {
   "cell_type": "code",
   "execution_count": 21,
   "id": "6c2377e6-d9d2-4800-8a32-cc5cdb8210d4",
   "metadata": {},
   "outputs": [
    {
     "data": {
      "text/plain": [
       "Gender\n",
       "0    21.153846\n",
       "1    59.154930\n",
       "Name: Recurred, dtype: float64"
      ]
     },
     "execution_count": 21,
     "metadata": {},
     "output_type": "execute_result"
    }
   ],
   "source": [
    "gender_recurrence_rates = data.groupby('Gender')['Recurred'].mean()\n",
    "gender_recurrence_rates*100"
   ]
  },
  {
   "cell_type": "markdown",
   "id": "ea8ddce6-6522-4a39-841f-44523adc213a",
   "metadata": {},
   "source": [
    "##### From the gender recurrence rates we can see that males (1) have high chances to recurrence of thyroid cancer as compared to females(0)"
   ]
  },
  {
   "cell_type": "code",
   "execution_count": 22,
   "id": "2bea46ac-354e-4a9d-ab76-510800fe199f",
   "metadata": {},
   "outputs": [
    {
     "name": "stderr",
     "output_type": "stream",
     "text": [
      "C:\\Users\\DURGESHWARI GAJBE\\anaconda3\\Lib\\site-packages\\seaborn\\_oldcore.py:1119: FutureWarning: use_inf_as_na option is deprecated and will be removed in a future version. Convert inf values to NaN before operating instead.\n",
      "  with pd.option_context('mode.use_inf_as_na', True):\n"
     ]
    },
    {
     "data": {
      "image/png": "[encoded data removed]",
      "text/plain": [
       "<Figure size 600x400 with 1 Axes>"
      ]
     },
     "metadata": {},
     "output_type": "display_data"
    }
   ],
   "source": [
    "plt.figure(figsize=(6, 4))\n",
    "sns.histplot(data['Hx Smoking'])\n",
    "plt.title(\"Hx Smoking Distribution\")\n",
    "plt.xlabel(\"Hx Smoking\")\n",
    "plt.ylabel(\"Count\")\n",
    "plt.show() #the distribution of patients by  smoking history"
   ]
  },
  {
   "cell_type": "code",
   "execution_count": 23,
   "id": "5e9806e8-8ccc-45f7-8147-cdda72ba385e",
   "metadata": {},
   "outputs": [
    {
     "data": {
      "text/plain": [
       "Hx Smoking\n",
       "0    26.478873\n",
       "1    50.000000\n",
       "Name: Recurred, dtype: float64"
      ]
     },
     "execution_count": 23,
     "metadata": {},
     "output_type": "execute_result"
    }
   ],
   "source": [
    "smoking_recurrence_rates = data.groupby('Hx Smoking')['Recurred'].mean()\n",
    "smoking_recurrence_rates *100"
   ]
  },
  {
   "cell_type": "markdown",
   "id": "dc0b6f96-7249-4ca6-8f36-4123f231e6ef",
   "metadata": {},
   "source": [
    "##### From the above outcomes we can see that smokers have high chances to recurrence of thyroid cancer"
   ]
  },
  {
   "cell_type": "markdown",
   "id": "583a38e1-f825-4fd2-abfc-0f51e5b7e0ef",
   "metadata": {},
   "source": [
    "# 2.Clinical Factors"
   ]
  },
  {
   "cell_type": "code",
   "execution_count": 13,
   "id": "de3b6f52-eebd-4e92-a281-161dcf9fbfcb",
   "metadata": {},
   "outputs": [],
   "source": [
    "# Explore the relationship between tumor characteristics (e.g., T, N, M, stage) and the likelihood of recurrence.\n",
    "#Which factors are most predictive of recurrence?"
   ]
  },
  {
   "cell_type": "code",
   "execution_count": 25,
   "id": "9a2d3058-cc36-49e2-9e4e-5b5f32911ed9",
   "metadata": {},
   "outputs": [
    {
     "data": {
      "text/html": [
       "<div>\n",
       "<style scoped>\n",
       "    .dataframe tbody tr th:only-of-type {\n",
       "        vertical-align: middle;\n",
       "    }\n",
       "\n",
       "    .dataframe tbody tr th {\n",
       "        vertical-align: top;\n",
       "    }\n",
       "\n",
       "    .dataframe thead th {\n",
       "        text-align: right;\n",
       "    }\n",
       "</style>\n",
       "<table border=\"1\" class=\"dataframe\">\n",
       "  <thead>\n",
       "    <tr style=\"text-align: right;\">\n",
       "      <th></th>\n",
       "      <th>Age</th>\n",
       "      <th>Gender</th>\n",
       "      <th>Smoking</th>\n",
       "      <th>Hx Smoking</th>\n",
       "      <th>Hx Radiothreapy</th>\n",
       "      <th>Thyroid Function</th>\n",
       "      <th>Physical Examination</th>\n",
       "      <th>Adenopathy</th>\n",
       "      <th>Pathology</th>\n",
       "      <th>Focality</th>\n",
       "      <th>Risk</th>\n",
       "      <th>T</th>\n",
       "      <th>N</th>\n",
       "      <th>M</th>\n",
       "      <th>Stage</th>\n",
       "      <th>Response</th>\n",
       "      <th>Recurred</th>\n",
       "    </tr>\n",
       "  </thead>\n",
       "  <tbody>\n",
       "    <tr>\n",
       "      <th>378</th>\n",
       "      <td>72</td>\n",
       "      <td>1</td>\n",
       "      <td>1</td>\n",
       "      <td>1</td>\n",
       "      <td>1</td>\n",
       "      <td>2</td>\n",
       "      <td>4</td>\n",
       "      <td>5</td>\n",
       "      <td>3</td>\n",
       "      <td>1</td>\n",
       "      <td>0</td>\n",
       "      <td>6</td>\n",
       "      <td>2</td>\n",
       "      <td>1</td>\n",
       "      <td>4</td>\n",
       "      <td>0</td>\n",
       "      <td>1</td>\n",
       "    </tr>\n",
       "    <tr>\n",
       "      <th>379</th>\n",
       "      <td>81</td>\n",
       "      <td>1</td>\n",
       "      <td>1</td>\n",
       "      <td>0</td>\n",
       "      <td>1</td>\n",
       "      <td>2</td>\n",
       "      <td>1</td>\n",
       "      <td>1</td>\n",
       "      <td>3</td>\n",
       "      <td>0</td>\n",
       "      <td>0</td>\n",
       "      <td>6</td>\n",
       "      <td>2</td>\n",
       "      <td>1</td>\n",
       "      <td>4</td>\n",
       "      <td>3</td>\n",
       "      <td>1</td>\n",
       "    </tr>\n",
       "    <tr>\n",
       "      <th>380</th>\n",
       "      <td>72</td>\n",
       "      <td>1</td>\n",
       "      <td>1</td>\n",
       "      <td>1</td>\n",
       "      <td>0</td>\n",
       "      <td>2</td>\n",
       "      <td>1</td>\n",
       "      <td>0</td>\n",
       "      <td>3</td>\n",
       "      <td>0</td>\n",
       "      <td>0</td>\n",
       "      <td>6</td>\n",
       "      <td>2</td>\n",
       "      <td>1</td>\n",
       "      <td>4</td>\n",
       "      <td>3</td>\n",
       "      <td>1</td>\n",
       "    </tr>\n",
       "    <tr>\n",
       "      <th>381</th>\n",
       "      <td>61</td>\n",
       "      <td>1</td>\n",
       "      <td>1</td>\n",
       "      <td>1</td>\n",
       "      <td>1</td>\n",
       "      <td>0</td>\n",
       "      <td>1</td>\n",
       "      <td>1</td>\n",
       "      <td>1</td>\n",
       "      <td>0</td>\n",
       "      <td>0</td>\n",
       "      <td>6</td>\n",
       "      <td>2</td>\n",
       "      <td>0</td>\n",
       "      <td>3</td>\n",
       "      <td>3</td>\n",
       "      <td>1</td>\n",
       "    </tr>\n",
       "    <tr>\n",
       "      <th>382</th>\n",
       "      <td>67</td>\n",
       "      <td>1</td>\n",
       "      <td>1</td>\n",
       "      <td>0</td>\n",
       "      <td>0</td>\n",
       "      <td>2</td>\n",
       "      <td>1</td>\n",
       "      <td>0</td>\n",
       "      <td>3</td>\n",
       "      <td>0</td>\n",
       "      <td>0</td>\n",
       "      <td>6</td>\n",
       "      <td>2</td>\n",
       "      <td>0</td>\n",
       "      <td>3</td>\n",
       "      <td>3</td>\n",
       "      <td>1</td>\n",
       "    </tr>\n",
       "  </tbody>\n",
       "</table>\n",
       "</div>"
      ],
      "text/plain": [
       "     Age  Gender  Smoking  Hx Smoking  Hx Radiothreapy  Thyroid Function  \\\n",
       "378   72       1        1           1                1                 2   \n",
       "379   81       1        1           0                1                 2   \n",
       "380   72       1        1           1                0                 2   \n",
       "381   61       1        1           1                1                 0   \n",
       "382   67       1        1           0                0                 2   \n",
       "\n",
       "     Physical Examination  Adenopathy  Pathology  Focality  Risk  T  N  M  \\\n",
       "378                     4           5          3         1     0  6  2  1   \n",
       "379                     1           1          3         0     0  6  2  1   \n",
       "380                     1           0          3         0     0  6  2  1   \n",
       "381                     1           1          1         0     0  6  2  0   \n",
       "382                     1           0          3         0     0  6  2  0   \n",
       "\n",
       "     Stage  Response  Recurred  \n",
       "378      4         0         1  \n",
       "379      4         3         1  \n",
       "380      4         3         1  \n",
       "381      3         3         1  \n",
       "382      3         3         1  "
      ]
     },
     "execution_count": 25,
     "metadata": {},
     "output_type": "execute_result"
    }
   ],
   "source": [
    "data.tail() #Folllowing shows the few rows from the bottom of the dataset "
   ]
  },
  {
   "cell_type": "code",
   "execution_count": 125,
   "id": "34629861-f5a1-4ecb-af26-ed2a37d4c579",
   "metadata": {},
   "outputs": [
    {
     "name": "stdout",
     "output_type": "stream",
     "text": [
      "Relationship between T and recurrence:\n",
      "T\n",
      "0    0.020408\n",
      "1    0.116279\n",
      "2    0.132450\n",
      "3    0.427083\n",
      "4    0.875000\n",
      "5    0.950000\n",
      "6    1.000000\n",
      "Name: Recurred, dtype: float64\n",
      "\n",
      "Relationship between N and recurrence:\n",
      "N\n",
      "0    0.100746\n",
      "1    0.454545\n",
      "2    0.763441\n",
      "Name: Recurred, dtype: float64\n",
      "\n",
      "Relationship between M and recurrence:\n",
      "M\n",
      "0    0.246575\n",
      "1    1.000000\n",
      "Name: Recurred, dtype: float64\n",
      "\n",
      "Relationship between Stage and recurrence:\n",
      "Stage\n",
      "0    0.195195\n",
      "1    0.781250\n",
      "2    1.000000\n",
      "3    1.000000\n",
      "4    1.000000\n",
      "Name: Recurred, dtype: float64\n",
      "\n"
     ]
    }
   ],
   "source": [
    "tumor_characteristics = ['T', 'N', 'M', 'Stage'] # here the characterstics resulting in Thyroid cancer are grouped together and saved in tumor_characteristics \n",
    "for characteristic in tumor_characteristics: # by using for loop we have called out the  characteristic in tumor_characteristics:\n",
    "    print(f\"Relationship between {characteristic} and recurrence:\") #\n",
    "    print(data.groupby(characteristic)['Recurred'].mean()) # by using groupby charateristics and recurred are clubbed and there average is taken out \n",
    "    print() "
   ]
  },
  {
   "cell_type": "markdown",
   "id": "3f66ce12-95d4-4ae1-b07e-ca431beed16f",
   "metadata": {},
   "source": [
    "##### By the results we got when we compare all the 4 characteristics we can see that 'stage ' is the character likelihood of recurrence and is most predictive of recurrence"
   ]
  },
  {
   "cell_type": "markdown",
   "id": "5c8ef985-f4b2-4cb6-bce2-5732df19ce4d",
   "metadata": {},
   "source": [
    "##### stage of the tumor is a strong predictor of recurrence, followed by the M, N, and T characteristics."
   ]
  },
  {
   "cell_type": "code",
   "execution_count": 14,
   "id": "6336b19d-d8ef-4acf-96cf-d49de244dbcc",
   "metadata": {},
   "outputs": [
    {
     "data": {
      "text/html": [
       "<div>\n",
       "<style scoped>\n",
       "    .dataframe tbody tr th:only-of-type {\n",
       "        vertical-align: middle;\n",
       "    }\n",
       "\n",
       "    .dataframe tbody tr th {\n",
       "        vertical-align: top;\n",
       "    }\n",
       "\n",
       "    .dataframe thead th {\n",
       "        text-align: right;\n",
       "    }\n",
       "</style>\n",
       "<table border=\"1\" class=\"dataframe\">\n",
       "  <thead>\n",
       "    <tr style=\"text-align: right;\">\n",
       "      <th></th>\n",
       "      <th>T</th>\n",
       "      <th>N</th>\n",
       "      <th>M</th>\n",
       "      <th>Stage</th>\n",
       "      <th>Recurred</th>\n",
       "    </tr>\n",
       "  </thead>\n",
       "  <tbody>\n",
       "    <tr>\n",
       "      <th>T</th>\n",
       "      <td>1.000000</td>\n",
       "      <td>0.458701</td>\n",
       "      <td>0.388490</td>\n",
       "      <td>0.538309</td>\n",
       "      <td>0.556201</td>\n",
       "    </tr>\n",
       "    <tr>\n",
       "      <th>N</th>\n",
       "      <td>0.458701</td>\n",
       "      <td>1.000000</td>\n",
       "      <td>0.219269</td>\n",
       "      <td>0.274281</td>\n",
       "      <td>0.632323</td>\n",
       "    </tr>\n",
       "    <tr>\n",
       "      <th>M</th>\n",
       "      <td>0.388490</td>\n",
       "      <td>0.219269</td>\n",
       "      <td>1.000000</td>\n",
       "      <td>0.681019</td>\n",
       "      <td>0.354360</td>\n",
       "    </tr>\n",
       "    <tr>\n",
       "      <th>Stage</th>\n",
       "      <td>0.538309</td>\n",
       "      <td>0.274281</td>\n",
       "      <td>0.681019</td>\n",
       "      <td>1.000000</td>\n",
       "      <td>0.449137</td>\n",
       "    </tr>\n",
       "    <tr>\n",
       "      <th>Recurred</th>\n",
       "      <td>0.556201</td>\n",
       "      <td>0.632323</td>\n",
       "      <td>0.354360</td>\n",
       "      <td>0.449137</td>\n",
       "      <td>1.000000</td>\n",
       "    </tr>\n",
       "  </tbody>\n",
       "</table>\n",
       "</div>"
      ],
      "text/plain": [
       "                 T         N         M     Stage  Recurred\n",
       "T         1.000000  0.458701  0.388490  0.538309  0.556201\n",
       "N         0.458701  1.000000  0.219269  0.274281  0.632323\n",
       "M         0.388490  0.219269  1.000000  0.681019  0.354360\n",
       "Stage     0.538309  0.274281  0.681019  1.000000  0.449137\n",
       "Recurred  0.556201  0.632323  0.354360  0.449137  1.000000"
      ]
     },
     "execution_count": 14,
     "metadata": {},
     "output_type": "execute_result"
    }
   ],
   "source": [
    "corr_matrix = data[['T', 'N', 'M', 'Stage', 'Recurred']].corr()\n",
    "corr_matrix # following matrix shows the relation between the characteristics "
   ]
  },
  {
   "cell_type": "code",
   "execution_count": 34,
   "id": "15e2b63b-c85b-474e-9878-368ca8f5d3ad",
   "metadata": {},
   "outputs": [],
   "source": [
    "#How does thyroid function affect the likelihood of recurrence?\n",
    "#Are patients with abnormal thyroid function at a higher risk?"
   ]
  },
  {
   "cell_type": "code",
   "execution_count": 133,
   "id": "9f2004be-86b9-4d8a-b756-8daf954cd9fd",
   "metadata": {},
   "outputs": [
    {
     "name": "stdout",
     "output_type": "stream",
     "text": [
      "Thyroid Function\n",
      "2    332\n",
      "0     20\n",
      "4     14\n",
      "1     12\n",
      "3      5\n",
      "Name: count, dtype: int64\n"
     ]
    }
   ],
   "source": [
    "print(data['Thyroid Function'].value_counts()) #following shows the value counts in Thyroid function "
   ]
  },
  {
   "cell_type": "code",
   "execution_count": 138,
   "id": "02bd4365-a9ab-498c-b36a-420bdd4e93c2",
   "metadata": {},
   "outputs": [
    {
     "data": {
      "text/html": [
       "<div>\n",
       "<style scoped>\n",
       "    .dataframe tbody tr th:only-of-type {\n",
       "        vertical-align: middle;\n",
       "    }\n",
       "\n",
       "    .dataframe tbody tr th {\n",
       "        vertical-align: top;\n",
       "    }\n",
       "\n",
       "    .dataframe thead th {\n",
       "        text-align: right;\n",
       "    }\n",
       "</style>\n",
       "<table border=\"1\" class=\"dataframe\">\n",
       "  <thead>\n",
       "    <tr style=\"text-align: right;\">\n",
       "      <th>Recurred</th>\n",
       "      <th>0</th>\n",
       "      <th>1</th>\n",
       "    </tr>\n",
       "    <tr>\n",
       "      <th>Thyroid Function</th>\n",
       "      <th></th>\n",
       "      <th></th>\n",
       "    </tr>\n",
       "  </thead>\n",
       "  <tbody>\n",
       "    <tr>\n",
       "      <th>0</th>\n",
       "      <td>17</td>\n",
       "      <td>3</td>\n",
       "    </tr>\n",
       "    <tr>\n",
       "      <th>1</th>\n",
       "      <td>10</td>\n",
       "      <td>2</td>\n",
       "    </tr>\n",
       "    <tr>\n",
       "      <th>2</th>\n",
       "      <td>234</td>\n",
       "      <td>98</td>\n",
       "    </tr>\n",
       "    <tr>\n",
       "      <th>3</th>\n",
       "      <td>5</td>\n",
       "      <td>0</td>\n",
       "    </tr>\n",
       "    <tr>\n",
       "      <th>4</th>\n",
       "      <td>9</td>\n",
       "      <td>5</td>\n",
       "    </tr>\n",
       "  </tbody>\n",
       "</table>\n",
       "</div>"
      ],
      "text/plain": [
       "Recurred            0   1\n",
       "Thyroid Function         \n",
       "0                  17   3\n",
       "1                  10   2\n",
       "2                 234  98\n",
       "3                   5   0\n",
       "4                   9   5"
      ]
     },
     "execution_count": 138,
     "metadata": {},
     "output_type": "execute_result"
    }
   ],
   "source": [
    "contingency_table = pd.crosstab(data['Thyroid Function'], data['Recurred'])\n",
    "contingency_table # following table will show the patients with abnormal thyroid function at a higher risk or not  "
   ]
  },
  {
   "cell_type": "markdown",
   "id": "00e0ec0b-02bc-45d1-97cd-86843e763c5e",
   "metadata": {},
   "source": [
    "##### Yes, patients with abnormal thyroid function may be at a higher risk of recurrence in differentiated thyroid cancer."
   ]
  },
  {
   "cell_type": "markdown",
   "id": "0a458840-ec7a-4a2b-b256-46760c2432bc",
   "metadata": {},
   "source": [
    "# 3.Impact of Treatment History"
   ]
  },
  {
   "cell_type": "code",
   "execution_count": 39,
   "id": "3e24923d-138e-4f26-93ed-9cb03e3632e0",
   "metadata": {},
   "outputs": [],
   "source": [
    "#Does a history of radiotherapy impact the likelihood of recurrence?"
   ]
  },
  {
   "cell_type": "code",
   "execution_count": 49,
   "id": "2337bbdc-8184-44d0-8157-56872e45ed63",
   "metadata": {},
   "outputs": [
    {
     "data": {
      "text/plain": [
       "Hx Radiothreapy\n",
       "0    376\n",
       "1      7\n",
       "Name: count, dtype: int64"
      ]
     },
     "execution_count": 49,
     "metadata": {},
     "output_type": "execute_result"
    }
   ],
   "source": [
    "radiotherapy_distribution = data['Hx Radiothreapy'].value_counts()\n",
    "radiotherapy_distribution "
   ]
  },
  {
   "cell_type": "code",
   "execution_count": 51,
   "id": "dec5d6a7-a22e-4f5e-a247-7d725d6fe105",
   "metadata": {},
   "outputs": [
    {
     "data": {
      "text/html": [
       "<div>\n",
       "<style scoped>\n",
       "    .dataframe tbody tr th:only-of-type {\n",
       "        vertical-align: middle;\n",
       "    }\n",
       "\n",
       "    .dataframe tbody tr th {\n",
       "        vertical-align: top;\n",
       "    }\n",
       "\n",
       "    .dataframe thead th {\n",
       "        text-align: right;\n",
       "    }\n",
       "</style>\n",
       "<table border=\"1\" class=\"dataframe\">\n",
       "  <thead>\n",
       "    <tr style=\"text-align: right;\">\n",
       "      <th>Recurred</th>\n",
       "      <th>0</th>\n",
       "      <th>1</th>\n",
       "    </tr>\n",
       "    <tr>\n",
       "      <th>Hx Radiothreapy</th>\n",
       "      <th></th>\n",
       "      <th></th>\n",
       "    </tr>\n",
       "  </thead>\n",
       "  <tbody>\n",
       "    <tr>\n",
       "      <th>0</th>\n",
       "      <td>274</td>\n",
       "      <td>102</td>\n",
       "    </tr>\n",
       "    <tr>\n",
       "      <th>1</th>\n",
       "      <td>1</td>\n",
       "      <td>6</td>\n",
       "    </tr>\n",
       "  </tbody>\n",
       "</table>\n",
       "</div>"
      ],
      "text/plain": [
       "Recurred           0    1\n",
       "Hx Radiothreapy          \n",
       "0                274  102\n",
       "1                  1    6"
      ]
     },
     "execution_count": 51,
     "metadata": {},
     "output_type": "execute_result"
    }
   ],
   "source": [
    "contingency_table = pd.crosstab(data['Hx Radiothreapy'], data['Recurred'])\n",
    "contingency_table #following table will show a history of radiotherapy impact the likelihood of recurrence or not "
   ]
  },
  {
   "cell_type": "markdown",
   "id": "8ee026e7-50be-4b38-840d-8b255fb66d79",
   "metadata": {},
   "source": [
    "##### Yes, a history of radiotherapy may impact the likelihood of recurrence in differentiated thyroid cancer patients."
   ]
  },
  {
   "cell_type": "code",
   "execution_count": 40,
   "id": "5f3d4901-8a09-477b-92be-a21cd26bb23e",
   "metadata": {},
   "outputs": [],
   "source": [
    "#How do different responses to initial treatment correlate with recurrence rates?"
   ]
  },
  {
   "cell_type": "code",
   "execution_count": 56,
   "id": "681ed651-b86e-48e6-8a88-e730efe5c41a",
   "metadata": {},
   "outputs": [
    {
     "data": {
      "text/plain": [
       "Response\n",
       "1    208\n",
       "3     91\n",
       "2     61\n",
       "0     23\n",
       "Name: count, dtype: int64"
      ]
     },
     "execution_count": 56,
     "metadata": {},
     "output_type": "execute_result"
    }
   ],
   "source": [
    "response_distribution = data['Response'].value_counts()\n",
    "response_distribution #the distribution of responses to initial treatment"
   ]
  },
  {
   "cell_type": "code",
   "execution_count": 58,
   "id": "18b8417d-a5b0-4185-a5bd-0753d1bf0ecd",
   "metadata": {},
   "outputs": [
    {
     "data": {
      "text/plain": [
       "Response\n",
       "0    0.478261\n",
       "1    0.004808\n",
       "2    0.114754\n",
       "3    0.978022\n",
       "Name: Recurred, dtype: float64"
      ]
     },
     "execution_count": 58,
     "metadata": {},
     "output_type": "execute_result"
    }
   ],
   "source": [
    "recurrence_rates = data.groupby('Response')['Recurred'].mean()\n",
    "recurrence_rates #the relationship between responses to initial treatment and recurrence rates"
   ]
  },
  {
   "cell_type": "code",
   "execution_count": 61,
   "id": "b00bffeb-2e52-4901-a1e2-7e363e66b94f",
   "metadata": {},
   "outputs": [
    {
     "data": {
      "text/plain": [
       "70.89566110550055"
      ]
     },
     "execution_count": 61,
     "metadata": {},
     "output_type": "execute_result"
    }
   ],
   "source": [
    "correlation_coefficient = data['Response'].corr(data['Recurred'])\n",
    "correlation_coefficient*100"
   ]
  },
  {
   "cell_type": "markdown",
   "id": "84e70b45-d662-4093-982c-002fc5204e90",
   "metadata": {},
   "source": [
    "##### Patients with a complete response to initial treatment have a lower recurrence rate compared to those with a partial or no response."
   ]
  },
  {
   "cell_type": "markdown",
   "id": "f4abd49b-0369-400e-be38-5a07397db13f",
   "metadata": {},
   "source": [
    "# 4.Risk Stratification"
   ]
  },
  {
   "cell_type": "code",
   "execution_count": 41,
   "id": "c1c0dcf8-7e70-4f7a-a798-473abd9f4110",
   "metadata": {},
   "outputs": [],
   "source": [
    "#Investigate how the risk stratification (low, intermediate, high) relates to the recurrence of thyroid cancer. \n",
    "#Is there a clear pattern in recurrence rates among different risk groups?"
   ]
  },
  {
   "cell_type": "code",
   "execution_count": 17,
   "id": "dbcb96fe-7462-4c7f-a490-d18a1eb9389a",
   "metadata": {},
   "outputs": [
    {
     "data": {
      "text/plain": [
       "Risk\n",
       "2    249\n",
       "1    102\n",
       "0     32\n",
       "Name: count, dtype: int64"
      ]
     },
     "execution_count": 17,
     "metadata": {},
     "output_type": "execute_result"
    }
   ],
   "source": [
    "risk_stratification_distribution = data['Risk'].value_counts()\n",
    "risk_stratification_distribution #the distribution of risk stratification"
   ]
  },
  {
   "cell_type": "code",
   "execution_count": 18,
   "id": "9a772817-da91-4413-a93d-19b3b7584456",
   "metadata": {},
   "outputs": [
    {
     "data": {
      "text/plain": [
       "Risk\n",
       "0    1.000000\n",
       "1    0.627451\n",
       "2    0.048193\n",
       "Name: Recurred, dtype: float64"
      ]
     },
     "execution_count": 18,
     "metadata": {},
     "output_type": "execute_result"
    }
   ],
   "source": [
    "recurrence_rates = data.groupby('Risk')['Recurred'].mean()\n",
    "recurrence_rates #the relationship between risk stratification and recurrence rates"
   ]
  },
  {
   "cell_type": "markdown",
   "id": "7b72e8b4-371e-477a-8e42-fc71f9248da3",
   "metadata": {},
   "source": [
    "##### patients with a high risk stratification have a higher recurrence rate compared to those with a low or intermediate risk stratification."
   ]
  },
  {
   "cell_type": "markdown",
   "id": "bb94a9ef-bc09-4081-a10b-84d1d038b298",
   "metadata": {},
   "source": [
    "##### Yes, there is a clear pattern in recurrence rates among different risk groups. The recurrence rates increase as the risk stratification increases."
   ]
  },
  {
   "cell_type": "markdown",
   "id": "2691ce5f-047d-4b2e-964a-3ef188f34a63",
   "metadata": {},
   "source": [
    "# 5.Demographic and Lifestyle Factors:"
   ]
  },
  {
   "cell_type": "code",
   "execution_count": 42,
   "id": "91639320-c86d-4109-999a-6584fc95f49e",
   "metadata": {},
   "outputs": [],
   "source": [
    "#Analyze whether smoking status or a history of smoking influences the recurrence rate. \n",
    "#Are smokers more likely to experience recurrence compared to non-smokers?"
   ]
  },
  {
   "cell_type": "code",
   "execution_count": 72,
   "id": "d47086ec-2003-4476-8851-31ec8c6b0c7e",
   "metadata": {},
   "outputs": [
    {
     "data": {
      "text/plain": [
       "Smoking\n",
       "0    334\n",
       "1     49\n",
       "Name: count, dtype: int64"
      ]
     },
     "execution_count": 72,
     "metadata": {},
     "output_type": "execute_result"
    }
   ],
   "source": [
    "smoking_status_distribution = data['Smoking'].value_counts()\n",
    "smoking_status_distribution # the distribution of smoking status"
   ]
  },
  {
   "cell_type": "code",
   "execution_count": 89,
   "id": "73807374-bc6c-4781-8033-acc92432a9f5",
   "metadata": {},
   "outputs": [],
   "source": [
    "recurrence_rates = data.groupby('Smoking')['Recurred'].mean() #the relationship between smoking status and recurrence rates"
   ]
  },
  {
   "cell_type": "code",
   "execution_count": 90,
   "id": "0853cc89-b148-4aad-b237-72ce3823f561",
   "metadata": {},
   "outputs": [
    {
     "data": {
      "text/plain": [
       "Smoking\n",
       "0    22.455090\n",
       "1    67.346939\n",
       "Name: Recurred, dtype: float64"
      ]
     },
     "execution_count": 90,
     "metadata": {},
     "output_type": "execute_result"
    }
   ],
   "source": [
    "recurrence_rates*100"
   ]
  },
  {
   "cell_type": "markdown",
   "id": "60e47368-0bb5-4903-aca5-580b3241f9aa",
   "metadata": {},
   "source": [
    "##### Yes, smokers are more likely to experience recurrence compared to non-smokers."
   ]
  },
  {
   "cell_type": "code",
   "execution_count": 43,
   "id": "d6401d9c-6e17-411e-9275-6350189afa2d",
   "metadata": {},
   "outputs": [],
   "source": [
    "#Are there any differences in recurrence rates between males and females?"
   ]
  },
  {
   "cell_type": "code",
   "execution_count": 93,
   "id": "19f8e14a-8c63-4fd5-9001-90b0fe0fc997",
   "metadata": {},
   "outputs": [
    {
     "data": {
      "text/plain": [
       "Gender\n",
       "0    312\n",
       "1     71\n",
       "Name: count, dtype: int64"
      ]
     },
     "execution_count": 93,
     "metadata": {},
     "output_type": "execute_result"
    }
   ],
   "source": [
    "sex_distribution = data['Gender'].value_counts()\n",
    "sex_distribution #the distribution of Gender "
   ]
  },
  {
   "cell_type": "code",
   "execution_count": 95,
   "id": "77bdcd0e-3408-4fa1-a408-e7991c77529e",
   "metadata": {},
   "outputs": [
    {
     "data": {
      "text/plain": [
       "Gender\n",
       "0    0.211538\n",
       "1    0.591549\n",
       "Name: Recurred, dtype: float64"
      ]
     },
     "execution_count": 95,
     "metadata": {},
     "output_type": "execute_result"
    }
   ],
   "source": [
    "recurrence_rates = data.groupby('Gender')['Recurred'].mean()\n",
    "recurrence_rates #the relationship between Gender  and recurrence rates"
   ]
  },
  {
   "cell_type": "markdown",
   "id": "30ce9a60-e955-4f2b-9b77-c64e28a04687",
   "metadata": {},
   "source": [
    "##### This suggests that males have a higher recurrence rate compared to females, indicating that sex may be a risk factor for recurrence."
   ]
  },
  {
   "cell_type": "markdown",
   "id": "9ef3cf0d-c6e1-4656-92fd-20654879c199",
   "metadata": {},
   "source": [
    "# 6.Visualization of Results:"
   ]
  },
  {
   "cell_type": "code",
   "execution_count": 44,
   "id": "7ba4450f-a8a1-4af6-980b-73ac83346b33",
   "metadata": {},
   "outputs": [],
   "source": [
    "#Create visualizations (bar charts, box plots) to illustrate the relationships between key features and recurrence status"
   ]
  },
  {
   "cell_type": "code",
   "execution_count": 102,
   "id": "22901f1e-5af4-4b5b-bfd0-94ac58354ad1",
   "metadata": {},
   "outputs": [
    {
     "data": {
      "image/png": "[encoded data removed]",
      "text/plain": [
       "<Figure size 600x400 with 1 Axes>"
      ]
     },
     "metadata": {},
     "output_type": "display_data"
    }
   ],
   "source": [
    "plt.figure(figsize=(6,4))\n",
    "data['Gender'].value_counts().plot(kind='bar')\n",
    "plt.title('Distribution of Sex')\n",
    "plt.xlabel('Sex')\n",
    "plt.ylabel('Count')\n",
    "plt.show()\n",
    "#a bar chart to illustrate the relationship between sex and recurrence status"
   ]
  },
  {
   "cell_type": "code",
   "execution_count": 104,
   "id": "00fa8925-982a-4aff-9100-16ffe49ec2d5",
   "metadata": {},
   "outputs": [
    {
     "data": {
      "image/png": "[encoded data removed]",
      "text/plain": [
       "<Figure size 600x400 with 1 Axes>"
      ]
     },
     "metadata": {},
     "output_type": "display_data"
    }
   ],
   "source": [
    "plt.figure(figsize=(6,4))\n",
    "data.groupby('Gender')['Recurred'].mean().plot(kind='bar')\n",
    "plt.title('Recurrence Rate by Sex')\n",
    "plt.xlabel('Sex')\n",
    "plt.ylabel('Recurrence Rate')\n",
    "plt.show()\n",
    "#a bar chart to illustrate the relationship between sex and recurrence status"
   ]
  },
  {
   "cell_type": "code",
   "execution_count": 106,
   "id": "55860e37-f2f7-42c8-af54-d401579b5737",
   "metadata": {},
   "outputs": [
    {
     "data": {
      "text/plain": [
       "<Figure size 600x400 with 0 Axes>"
      ]
     },
     "metadata": {},
     "output_type": "display_data"
    },
    {
     "data": {
      "image/png": "[encoded data removed]",
      "text/plain": [
       "<Figure size 640x480 with 1 Axes>"
      ]
     },
     "metadata": {},
     "output_type": "display_data"
    }
   ],
   "source": [
    "plt.figure(figsize=(6,4))\n",
    "data.boxplot(column='Age', by='Recurred')\n",
    "plt.title('Age Distribution by Recurrence Status')\n",
    "plt.xlabel('Recurrence Status')\n",
    "plt.ylabel('Age')\n",
    "plt.show()\n",
    "#a box plot to illustrate the relationship between age and recurrence status"
   ]
  },
  {
   "cell_type": "code",
   "execution_count": 111,
   "id": "bb52a4c2-b421-45d9-b1ea-55e76329dc65",
   "metadata": {},
   "outputs": [
    {
     "data": {
      "image/png": "[encoded data removed]",
      "text/plain": [
       "<Figure size 800x600 with 1 Axes>"
      ]
     },
     "metadata": {},
     "output_type": "display_data"
    }
   ],
   "source": [
    "plt.figure(figsize=(8,6))\n",
    "data.groupby('T')['Recurred'].mean().plot(kind='bar')\n",
    "plt.title('Recurrence Rate by Tumor Size')\n",
    "plt.xlabel('Tumor Size')\n",
    "plt.ylabel('Recurrence Rate')\n",
    "plt.show()\n",
    "#a bar chart to illustrate the relationship between tumor size and recurrence status"
   ]
  },
  {
   "cell_type": "code",
   "execution_count": 112,
   "id": "4ae572e9-9772-4fd5-aaa3-40397d01c704",
   "metadata": {},
   "outputs": [
    {
     "data": {
      "image/png": "[encoded data removed]",
      "text/plain": [
       "<Figure size 800x600 with 1 Axes>"
      ]
     },
     "metadata": {},
     "output_type": "display_data"
    }
   ],
   "source": [
    "plt.figure(figsize=(8,6))\n",
    "data.groupby('N')['Recurred'].mean().plot(kind='bar')\n",
    "plt.title('Recurrence Rate by Lymph Node Status')\n",
    "plt.xlabel('Lymph Node Status')\n",
    "plt.ylabel('Recurrence Rate')\n",
    "plt.show()\n",
    "#a bar chart to illustrate the relationship between lymph node status and recurrence status"
   ]
  },
  {
   "cell_type": "markdown",
   "id": "ec36ac24-ad39-4f1e-a4a3-00dd3a5f40c9",
   "metadata": {},
   "source": [
    "##### These visualizations can help illustrate the relationships between key features and recurrence status, and can be useful for identifying patterns and trends in the data."
   ]
  },
  {
   "cell_type": "code",
   "execution_count": 45,
   "id": "6008435f-455f-4cc4-902a-1a0a58f1bc74",
   "metadata": {},
   "outputs": [],
   "source": [
    "#Use a correlation matrix to visualize the relationships between clinical, lifestyle, and demographic factors."
   ]
  },
  {
   "cell_type": "code",
   "execution_count": 22,
   "id": "788a8939-1beb-42d4-94e6-3578d5ed1def",
   "metadata": {},
   "outputs": [],
   "source": [
    "features = ['Age', 'Gender', 'Smoking', 'T', 'N', 'Recurred']\n",
    "data_selected = data[features]#creating a list of key features and saving in features variable"
   ]
  },
  {
   "cell_type": "code",
   "execution_count": 23,
   "id": "8c4db88f-1d2c-43de-8304-2571495cf821",
   "metadata": {},
   "outputs": [],
   "source": [
    "correlation_matrix = data_selected.corr()  # Created a correlation matrix"
   ]
  },
  {
   "cell_type": "code",
   "execution_count": 24,
   "id": "e0f42336-194f-46ef-8458-54ec1acd8564",
   "metadata": {},
   "outputs": [
    {
     "data": {
      "image/png": "[encoded data removed]",
      "text/plain": [
       "<Figure size 1000x800 with 2 Axes>"
      ]
     },
     "metadata": {},
     "output_type": "display_data"
    }
   ],
   "source": [
    "plt.figure(figsize=(10,8))\n",
    "sns.heatmap(correlation_matrix, annot=True, cmap='coolwarm', square=True)\n",
    "plt.title('Correlation Matrix')\n",
    "plt.show()\n",
    "#Visualize the correlation matrix"
   ]
  },
  {
   "cell_type": "markdown",
   "id": "5190e76f-fa82-4eaf-b3f5-abe7aa98f1e1",
   "metadata": {},
   "source": [
    "##### the correlation matrix shows that:\n",
    "- Age is positively correlated with tumor size and lymph node status\n",
    "- Smoking status is positively correlated with recurrence\n",
    "- Tumor size is positively correlated with lymph node status and recurrence\n",
    "- Lymph node status is positively correlated with recurrence\n",
    "- These correlations can help identify potential risk factors for recurrence and inform treatment decisions.sions."
   ]
  },
  {
   "cell_type": "markdown",
   "id": "debb4e78-e532-41fe-b9d3-297e08449f24",
   "metadata": {},
   "source": [
    "# 7.Recommendations:"
   ]
  },
  {
   "cell_type": "code",
   "execution_count": 46,
   "id": "7ebbc738-c6ae-4f7a-a3bf-4a75ecc4ad67",
   "metadata": {},
   "outputs": [],
   "source": [
    "#Based on your analysis, suggest key factors that should be monitored in patients at high risk of thyroid cancer recurrence."
   ]
  },
  {
   "cell_type": "code",
   "execution_count": 118,
   "id": "693a35ad-fa84-4e09-8644-18b490c14161",
   "metadata": {},
   "outputs": [
    {
     "data": {
      "text/plain": [
       "Index(['Age', 'Gender', 'Smoking', 'Hx Smoking', 'Hx Radiothreapy',\n",
       "       'Thyroid Function', 'Physical Examination', 'Adenopathy', 'Pathology',\n",
       "       'Focality', 'Risk', 'T', 'N', 'M', 'Stage', 'Response', 'Recurred'],\n",
       "      dtype='object')"
      ]
     },
     "execution_count": 118,
     "metadata": {},
     "output_type": "execute_result"
    }
   ],
   "source": [
    "data.columns "
   ]
  },
  {
   "cell_type": "code",
   "execution_count": 27,
   "id": "d2661182-0c60-4f1c-9ae0-992eedeaa39c",
   "metadata": {},
   "outputs": [],
   "source": [
    "key_factors = ['T', 'N','Smoking ','Age','Gender','Recurred','Thyroid Function'] #the key factors to be monitored"
   ]
  },
  {
   "cell_type": "code",
   "execution_count": 29,
   "id": "c34c1513-ff33-439f-bd40-6330ba5802ea",
   "metadata": {},
   "outputs": [
    {
     "name": "stdout",
     "output_type": "stream",
     "text": [
      "Key factors to be monitored in patients at high risk of thyroid cancer recurrence:\n",
      "T\n",
      "N\n",
      "Smoking \n",
      "Age\n",
      "Gender\n",
      "Recurred\n",
      "Thyroid Function\n"
     ]
    }
   ],
   "source": [
    "print(\"Key factors to be monitored in patients at high risk of thyroid cancer recurrence:\")\n",
    "for factor in key_factors:\n",
    " print(factor) # Printing the key factors"
   ]
  },
  {
   "cell_type": "markdown",
   "id": "ace4edf9-e7f6-41b4-92bb-8313e8cb87c2",
   "metadata": {},
   "source": [
    "##### This list of key factors to be monitored  can be used to inform treatment decisions and monitoring strategies for patients at high risk of thyroid cancer recurrence.\r\n"
   ]
  },
  {
   "cell_type": "code",
   "execution_count": 47,
   "id": "4f2c7a81-44e8-453f-a06b-45d026bd2f56",
   "metadata": {},
   "outputs": [],
   "source": [
    "#Provide insights into the importance of lifestyle factors, treatment history, \n",
    "#and tumor characteristics in managing recurrence risks."
   ]
  },
  {
   "cell_type": "code",
   "execution_count": 32,
   "id": "b90bc5cf-fb61-4c03-9c6b-db5c6ff55fbd",
   "metadata": {},
   "outputs": [],
   "source": [
    "insights = {\n",
    "   \"Lifestyle Factors\": [\n",
    "      \"Smoking status affects recurrence risk.\",\n",
    "       \"Healthy diet and physical activity reduce recurrence risk.\"\n",
    "   ],\n",
    "   \"Treatment History\": [\n",
    "       \"Surgery, radiotherapy, and chemotherapy reduce recurrence risk.\"\n",
    "   ],\n",
    "    \"Tumor Characteristics\": [\n",
    "       \"Larger tumors, lymph node involvement, high-grade tumors, and advanced-stage tumors increase recurrence risk.\"\n",
    "    ]\n",
    "} "
   ]
  },
  {
   "cell_type": "code",
   "execution_count": 33,
   "id": "20453dfc-35d0-4bf7-b111-5d20be97fe5d",
   "metadata": {},
   "outputs": [
    {
     "name": "stdout",
     "output_type": "stream",
     "text": [
      "Lifestyle Factors\n",
      "Smoking status affects recurrence risk.\n",
      "Healthy diet and physical activity reduce recurrence risk.\n",
      "Treatment History\n",
      "Surgery, radiotherapy, and chemotherapy reduce recurrence risk.\n",
      "Tumor Characteristics\n",
      "Larger tumors, lymph node involvement, high-grade tumors, and advanced-stage tumors increase recurrence risk.\n"
     ]
    }
   ],
   "source": [
    "for category, insights_list in insights.items():\n",
    "    print(category)\n",
    "    for insight in insights_list:\n",
    "       print(insight)"
   ]
  },
  {
   "cell_type": "code",
   "execution_count": null,
   "id": "e1b849eb-6833-4f3b-9dc0-44ea765f562c",
   "metadata": {},
   "outputs": [],
   "source": []
  }
 ],
 "metadata": {
  "kernelspec": {
   "display_name": "Python 3 (ipykernel)",
   "language": "python",
   "name": "python3"
  },
  "language_info": {
   "codemirror_mode": {
    "name": "ipython",
    "version": 3
   },
   "file_extension": ".py",
   "mimetype": "text/x-python",
   "name": "python",
   "nbconvert_exporter": "python",
   "pygments_lexer": "ipython3",
   "version": "3.11.7"
  }
 },
 "nbformat": 4,
 "nbformat_minor": 5
}
